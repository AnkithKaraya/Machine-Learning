{
 "cells": [
  {
   "cell_type": "markdown",
   "id": "c5871204",
   "metadata": {},
   "source": [
    "# Identification of images using Convolutional Neural Networks"
   ]
  },
  {
   "cell_type": "code",
   "execution_count": 1,
   "id": "b4097520",
   "metadata": {},
   "outputs": [],
   "source": [
    "import tensorflow as tf\n",
    "import numpy as np\n",
    "from keras.preprocessing.image import ImageDataGenerator"
   ]
  },
  {
   "cell_type": "code",
   "execution_count": 2,
   "id": "f0fd2d13",
   "metadata": {},
   "outputs": [
    {
     "data": {
      "text/plain": [
       "'2.12.0'"
      ]
     },
     "execution_count": 2,
     "metadata": {},
     "output_type": "execute_result"
    }
   ],
   "source": [
    "tf.__version__"
   ]
  },
  {
   "cell_type": "code",
   "execution_count": 3,
   "id": "21ef3762",
   "metadata": {},
   "outputs": [
    {
     "name": "stdout",
     "output_type": "stream",
     "text": [
      "Found 8000 images belonging to 2 classes.\n"
     ]
    }
   ],
   "source": [
    "# Data preprocessing - On training set\n",
    "# First, apply transformations to avoid overfitting\n",
    "train_generator = ImageDataGenerator(rescale=1./255, shear_range=0.2, zoom_range=0.2, horizontal_flip=True)\n",
    "train_set = train_generator.flow_from_directory('dataset/training_set', target_size=(64, 64), batch_size=32, class_mode='binary')"
   ]
  },
  {
   "cell_type": "code",
   "execution_count": 4,
   "id": "4a82e645",
   "metadata": {},
   "outputs": [
    {
     "name": "stdout",
     "output_type": "stream",
     "text": [
      "Found 2000 images belonging to 2 classes.\n"
     ]
    }
   ],
   "source": [
    "# Preprocessing test data\n",
    "test_generator = ImageDataGenerator(rescale=1./255)\n",
    "test_set = test_generator.flow_from_directory('dataset/test_set', target_size=(64, 64), batch_size=32, class_mode='binary')"
   ]
  },
  {
   "cell_type": "code",
   "execution_count": 5,
   "id": "a27668d1",
   "metadata": {},
   "outputs": [],
   "source": [
    "# Building the CNN\n",
    "# Initialise the CNN\n",
    "CNN = tf.keras.models.Sequential()"
   ]
  },
  {
   "cell_type": "code",
   "execution_count": 6,
   "id": "49d2d599",
   "metadata": {},
   "outputs": [],
   "source": [
    "# Convolution\n",
    "CNN.add(tf.keras.layers.Conv2D(filters=32, kernel_size=3, activation='relu', input_shape=[64, 64, 3]))"
   ]
  },
  {
   "cell_type": "code",
   "execution_count": 7,
   "id": "26c8dea5",
   "metadata": {},
   "outputs": [],
   "source": [
    "# Pooling (Max pooling)\n",
    "CNN.add(tf.keras.layers.MaxPool2D(pool_size=2, strides=2))"
   ]
  },
  {
   "cell_type": "code",
   "execution_count": 8,
   "id": "4fc74c37",
   "metadata": {},
   "outputs": [],
   "source": [
    "# Adding second convolution layer\n",
    "CNN.add(tf.keras.layers.Conv2D(filters=32, kernel_size=3, activation='relu'))\n",
    "CNN.add(tf.keras.layers.MaxPool2D(pool_size=2, strides=2))"
   ]
  },
  {
   "cell_type": "code",
   "execution_count": 9,
   "id": "af8e1a9f",
   "metadata": {},
   "outputs": [],
   "source": [
    "# Flattening\n",
    "CNN.add(tf.keras.layers.Flatten())"
   ]
  },
  {
   "cell_type": "code",
   "execution_count": 10,
   "id": "9e215d55",
   "metadata": {},
   "outputs": [],
   "source": [
    "# Full connection\n",
    "CNN.add(tf.keras.layers.Dense(units=128, activation='relu'))"
   ]
  },
  {
   "cell_type": "code",
   "execution_count": 11,
   "id": "6e949f01",
   "metadata": {},
   "outputs": [],
   "source": [
    "# Output layer\n",
    "CNN.add(tf.keras.layers.Dense(units=1, activation='sigmoid'))"
   ]
  },
  {
   "cell_type": "code",
   "execution_count": 12,
   "id": "ee040654",
   "metadata": {},
   "outputs": [],
   "source": [
    "# Training the CNN\n",
    "# Compile the CNN\n",
    "CNN.compile(optimizer='adam', loss='binary_crossentropy', metrics=['accuracy'])"
   ]
  },
  {
   "cell_type": "code",
   "execution_count": 13,
   "id": "711124c1",
   "metadata": {},
   "outputs": [
    {
     "name": "stdout",
     "output_type": "stream",
     "text": [
      "Epoch 1/25\n",
      "250/250 [==============================] - 60s 237ms/step - loss: 0.6682 - accuracy: 0.5821 - val_loss: 0.5969 - val_accuracy: 0.6980\n",
      "Epoch 2/25\n",
      "250/250 [==============================] - 55s 217ms/step - loss: 0.5816 - accuracy: 0.6959 - val_loss: 0.5258 - val_accuracy: 0.7490\n",
      "Epoch 3/25\n",
      "250/250 [==============================] - 52s 206ms/step - loss: 0.5367 - accuracy: 0.7286 - val_loss: 0.5052 - val_accuracy: 0.7525\n",
      "Epoch 4/25\n",
      "250/250 [==============================] - 50s 199ms/step - loss: 0.5058 - accuracy: 0.7565 - val_loss: 0.5054 - val_accuracy: 0.7600\n",
      "Epoch 5/25\n",
      "250/250 [==============================] - 51s 204ms/step - loss: 0.4843 - accuracy: 0.7595 - val_loss: 0.4660 - val_accuracy: 0.7775\n",
      "Epoch 6/25\n",
      "250/250 [==============================] - 59s 233ms/step - loss: 0.4762 - accuracy: 0.7695 - val_loss: 0.4988 - val_accuracy: 0.7670\n",
      "Epoch 7/25\n",
      "250/250 [==============================] - 60s 241ms/step - loss: 0.4602 - accuracy: 0.7775 - val_loss: 0.4694 - val_accuracy: 0.7870\n",
      "Epoch 8/25\n",
      "250/250 [==============================] - 56s 222ms/step - loss: 0.4499 - accuracy: 0.7879 - val_loss: 0.4552 - val_accuracy: 0.7920\n",
      "Epoch 9/25\n",
      "250/250 [==============================] - 59s 234ms/step - loss: 0.4400 - accuracy: 0.7926 - val_loss: 0.4604 - val_accuracy: 0.7890\n",
      "Epoch 10/25\n",
      "250/250 [==============================] - 57s 229ms/step - loss: 0.4160 - accuracy: 0.8071 - val_loss: 0.4596 - val_accuracy: 0.8030\n",
      "Epoch 11/25\n",
      "250/250 [==============================] - 57s 228ms/step - loss: 0.4157 - accuracy: 0.8059 - val_loss: 0.4701 - val_accuracy: 0.7810\n",
      "Epoch 12/25\n",
      "250/250 [==============================] - 59s 235ms/step - loss: 0.4044 - accuracy: 0.8100 - val_loss: 0.4547 - val_accuracy: 0.7935\n",
      "Epoch 13/25\n",
      "250/250 [==============================] - 55s 218ms/step - loss: 0.3909 - accuracy: 0.8225 - val_loss: 0.4587 - val_accuracy: 0.7855\n",
      "Epoch 14/25\n",
      "250/250 [==============================] - 53s 213ms/step - loss: 0.3922 - accuracy: 0.8180 - val_loss: 0.4441 - val_accuracy: 0.8085\n",
      "Epoch 15/25\n",
      "250/250 [==============================] - 52s 208ms/step - loss: 0.3725 - accuracy: 0.8324 - val_loss: 0.4475 - val_accuracy: 0.8085\n",
      "Epoch 16/25\n",
      "250/250 [==============================] - 49s 195ms/step - loss: 0.3639 - accuracy: 0.8336 - val_loss: 0.4807 - val_accuracy: 0.8010\n",
      "Epoch 17/25\n",
      "250/250 [==============================] - 48s 194ms/step - loss: 0.3614 - accuracy: 0.8400 - val_loss: 0.4599 - val_accuracy: 0.8070\n",
      "Epoch 18/25\n",
      "250/250 [==============================] - 50s 200ms/step - loss: 0.3434 - accuracy: 0.8462 - val_loss: 0.4649 - val_accuracy: 0.8075\n",
      "Epoch 19/25\n",
      "250/250 [==============================] - 61s 243ms/step - loss: 0.3374 - accuracy: 0.8553 - val_loss: 0.4558 - val_accuracy: 0.8035\n",
      "Epoch 20/25\n",
      "250/250 [==============================] - 55s 222ms/step - loss: 0.3187 - accuracy: 0.8575 - val_loss: 0.4958 - val_accuracy: 0.7905\n",
      "Epoch 21/25\n",
      "250/250 [==============================] - 59s 237ms/step - loss: 0.3186 - accuracy: 0.8581 - val_loss: 0.4591 - val_accuracy: 0.8105\n",
      "Epoch 22/25\n",
      "250/250 [==============================] - 56s 226ms/step - loss: 0.2983 - accuracy: 0.8695 - val_loss: 0.4649 - val_accuracy: 0.8030\n",
      "Epoch 23/25\n",
      "250/250 [==============================] - 60s 241ms/step - loss: 0.2876 - accuracy: 0.8734 - val_loss: 0.4958 - val_accuracy: 0.7980\n",
      "Epoch 24/25\n",
      "250/250 [==============================] - 61s 245ms/step - loss: 0.2804 - accuracy: 0.8737 - val_loss: 0.5336 - val_accuracy: 0.7965\n",
      "Epoch 25/25\n",
      "250/250 [==============================] - 51s 204ms/step - loss: 0.2793 - accuracy: 0.8816 - val_loss: 0.5096 - val_accuracy: 0.7945\n"
     ]
    },
    {
     "data": {
      "text/plain": [
       "<keras.callbacks.History at 0x2ae54b99be0>"
      ]
     },
     "execution_count": 13,
     "metadata": {},
     "output_type": "execute_result"
    }
   ],
   "source": [
    "# Train on training set and evaluate on test set\n",
    "CNN.fit(x=train_set, validation_data=test_set, epochs=25)"
   ]
  },
  {
   "cell_type": "code",
   "execution_count": 14,
   "id": "c64b5270",
   "metadata": {},
   "outputs": [
    {
     "name": "stdout",
     "output_type": "stream",
     "text": [
      "1/1 [==============================] - 0s 157ms/step\n"
     ]
    }
   ],
   "source": [
    "# Make single prediction\n",
    "from keras.utils import load_img, img_to_array\n",
    "test_image = load_img('dataset/single_prediction/cat_or_dog_2.jpg', target_size=(64, 64))\n",
    "# Convert PIL format to array\n",
    "test_image = img_to_array(test_image)\n",
    "test_image = np.expand_dims(test_image, axis=0)\n",
    "pred_init = CNN.predict(test_image/255.0)\n",
    "#train_set.class_indices\n",
    "\n",
    "if pred_init[0][0]==1:\n",
    "    prediction = 'dog'\n",
    "else:\n",
    "    prediction = 'cat'"
   ]
  },
  {
   "cell_type": "code",
   "execution_count": 15,
   "id": "bc558bc5",
   "metadata": {},
   "outputs": [
    {
     "name": "stdout",
     "output_type": "stream",
     "text": [
      "cat\n"
     ]
    }
   ],
   "source": [
    "print(prediction)"
   ]
  },
  {
   "cell_type": "code",
   "execution_count": null,
   "id": "b1e3099e",
   "metadata": {},
   "outputs": [],
   "source": []
  }
 ],
 "metadata": {
  "kernelspec": {
   "display_name": "Python 3 (ipykernel)",
   "language": "python",
   "name": "python3"
  },
  "language_info": {
   "codemirror_mode": {
    "name": "ipython",
    "version": 3
   },
   "file_extension": ".py",
   "mimetype": "text/x-python",
   "name": "python",
   "nbconvert_exporter": "python",
   "pygments_lexer": "ipython3",
   "version": "3.9.13"
  }
 },
 "nbformat": 4,
 "nbformat_minor": 5
}
